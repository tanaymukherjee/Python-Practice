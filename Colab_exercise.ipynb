{
  "nbformat": 4,
  "nbformat_minor": 0,
  "metadata": {
    "colab": {
      "name": "Colab_exercise.ipynb",
      "provenance": [],
      "collapsed_sections": [],
      "authorship_tag": "ABX9TyOppDha51EVjDFIAqa4y0kX",
      "include_colab_link": true
    },
    "kernelspec": {
      "name": "python3",
      "display_name": "Python 3"
    }
  },
  "cells": [
    {
      "cell_type": "markdown",
      "metadata": {
        "id": "view-in-github",
        "colab_type": "text"
      },
      "source": [
        "<a href=\"https://colab.research.google.com/github/tanaymukherjee/Python-Practice/blob/master/Colab_exercise.ipynb\" target=\"_parent\"><img src=\"https://colab.research.google.com/assets/colab-badge.svg\" alt=\"Open In Colab\"/></a>"
      ]
    },
    {
      "cell_type": "code",
      "metadata": {
        "id": "xMF87Q30yWtm",
        "colab_type": "code",
        "colab": {}
      },
      "source": [
        "import requests\n",
        "\n",
        "# from github_client.conf import API_BASE\n",
        "\n",
        "r = requests.get('https://api.github.com/users/tanaymukherjee')\n"
      ],
      "execution_count": 0,
      "outputs": []
    },
    {
      "cell_type": "code",
      "metadata": {
        "id": "0e6EktN56Bl5",
        "colab_type": "code",
        "colab": {
          "base_uri": "https://localhost:8080/",
          "height": 90
        },
        "outputId": "65fac285-3a2f-47a5-bbcd-0c9d7677e133"
      },
      "source": [
        "print(r.status_code)\n",
        "print(r.headers['content-type'])\n",
        "print(r.json())"
      ],
      "execution_count": 7,
      "outputs": [
        {
          "output_type": "stream",
          "text": [
            "200\n",
            "application/json; charset=utf-8\n",
            "{'login': 'tanaymukherjee', 'id': 6689256, 'node_id': 'MDQ6VXNlcjY2ODkyNTY=', 'avatar_url': 'https://avatars2.githubusercontent.com/u/6689256?v=4', 'gravatar_id': '', 'url': 'https://api.github.com/users/tanaymukherjee', 'html_url': 'https://github.com/tanaymukherjee', 'followers_url': 'https://api.github.com/users/tanaymukherjee/followers', 'following_url': 'https://api.github.com/users/tanaymukherjee/following{/other_user}', 'gists_url': 'https://api.github.com/users/tanaymukherjee/gists{/gist_id}', 'starred_url': 'https://api.github.com/users/tanaymukherjee/starred{/owner}{/repo}', 'subscriptions_url': 'https://api.github.com/users/tanaymukherjee/subscriptions', 'organizations_url': 'https://api.github.com/users/tanaymukherjee/orgs', 'repos_url': 'https://api.github.com/users/tanaymukherjee/repos', 'events_url': 'https://api.github.com/users/tanaymukherjee/events{/privacy}', 'received_events_url': 'https://api.github.com/users/tanaymukherjee/received_events', 'type': 'User', 'site_admin': False, 'name': 'Tanay Mukherjee', 'company': 'IBM | Ogilvy | Maersk', 'blog': 'https://www.linkedin.com/in/tanay-mukherjee-96206861/', 'location': 'New York', 'email': None, 'hireable': True, 'bio': 'Data Science Enthusiast. Digital Marketing Expert. Past exp in Analytics, Research & Strategy. Academics: Comp. Science Engg & MS in Statistics and Data Science', 'public_repos': 60, 'public_gists': 0, 'followers': 10, 'following': 15, 'created_at': '2014-02-15T10:28:46Z', 'updated_at': '2020-03-26T23:43:06Z'}\n"
          ],
          "name": "stdout"
        }
      ]
    }
  ]
}