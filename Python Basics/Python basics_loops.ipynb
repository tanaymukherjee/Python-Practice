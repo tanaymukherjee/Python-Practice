{
 "cells": [
  {
   "cell_type": "code",
   "execution_count": 1,
   "metadata": {},
   "outputs": [],
   "source": [
    "## Loops"
   ]
  },
  {
   "cell_type": "code",
   "execution_count": 2,
   "metadata": {},
   "outputs": [
    {
     "name": "stdout",
     "output_type": "stream",
     "text": [
      "red\n",
      "orange\n",
      "yellow\n",
      "green\n",
      "blue\n",
      "indigo\n",
      "violet\n"
     ]
    }
   ],
   "source": [
    "# Iterating with Loops\n",
    "\n",
    "visible_colors = [\"red\", \"orange\", \"yellow\", \"green\", \"blue\", \"indigo\", \"violet\"]\n",
    "\n",
    "print(visible_colors[0])\n",
    "print(visible_colors[1])\n",
    "print(visible_colors[2])\n",
    "print(visible_colors[3])\n",
    "print(visible_colors[4])\n",
    "print(visible_colors[5])\n",
    "print(visible_colors[6])"
   ]
  },
  {
   "cell_type": "code",
   "execution_count": 3,
   "metadata": {},
   "outputs": [
    {
     "name": "stdout",
     "output_type": "stream",
     "text": [
      "red\n",
      "orange\n",
      "yellow\n",
      "green\n",
      "blue\n",
      "indigo\n",
      "violet\n"
     ]
    }
   ],
   "source": [
    "visible_colors = [\"red\", \"orange\", \"yellow\", \"green\", \"blue\", \"indigo\", \"violet\"]\n",
    "\n",
    "idx = 0\n",
    "\n",
    "print(visible_colors[idx]) # idx = 0\n",
    "idx = idx + 1\n",
    "\n",
    "print(visible_colors[idx]) # idx = 1\n",
    "idx = idx + 1\n",
    "\n",
    "print(visible_colors[idx]) # idx = 2\n",
    "idx = idx + 1\n",
    "\n",
    "print(visible_colors[idx]) # idx = 3\n",
    "idx = idx + 1\n",
    "\n",
    "print(visible_colors[idx]) # idx = 4 \n",
    "idx = idx + 1\n",
    "\n",
    "print(visible_colors[idx]) # idx = 5\n",
    "idx = idx + 1\n",
    "\n",
    "print(visible_colors[idx]) # idx = 6"
   ]
  },
  {
   "cell_type": "code",
   "execution_count": 4,
   "metadata": {},
   "outputs": [
    {
     "name": "stdout",
     "output_type": "stream",
     "text": [
      "red\n",
      "orange\n",
      "yellow\n",
      "green\n",
      "blue\n",
      "indigo\n",
      "violet\n"
     ]
    }
   ],
   "source": [
    "# While loop\n",
    "\n",
    "idx = 0\n",
    "\n",
    "while idx < len(visible_colors):\n",
    "    print(visible_colors[idx])\n",
    "    idx = idx + 1"
   ]
  },
  {
   "cell_type": "code",
   "execution_count": 6,
   "metadata": {},
   "outputs": [
    {
     "name": "stdout",
     "output_type": "stream",
     "text": [
      "0\n",
      "1\n",
      "2\n",
      "3\n",
      "4\n",
      "5\n",
      "6\n",
      "7\n",
      "8\n",
      "9\n",
      "10\n"
     ]
    }
   ],
   "source": [
    "# Counting\n",
    "\n",
    "i = 0\n",
    "while i < 10:\n",
    "    print(i)\n",
    "    i += 1\n",
    "print(i)"
   ]
  },
  {
   "cell_type": "code",
   "execution_count": 7,
   "metadata": {},
   "outputs": [
    {
     "name": "stdout",
     "output_type": "stream",
     "text": [
      "[1, 3, 5, 7, 9] \n",
      " [2, 4, 6, 8, 10]\n"
     ]
    }
   ],
   "source": [
    "# Use a loop to make a list of all odd numbers between 1 and 10 and another list with all the evens in this range.\n",
    "odds = []\n",
    "evens = []\n",
    "\n",
    "i = 1\n",
    "\n",
    "while i <= 10:\n",
    "  if i % 2 != 0:\n",
    "    odds.append(i)\n",
    "  else:\n",
    "    evens.append(i)\n",
    "  i += 1\n",
    "\n",
    "print(odds,'\\n', evens)\n"
   ]
  },
  {
   "cell_type": "code",
   "execution_count": 8,
   "metadata": {},
   "outputs": [
    {
     "name": "stdout",
     "output_type": "stream",
     "text": [
      "I'll make some coffee!\n"
     ]
    }
   ],
   "source": [
    "# Loops are based on booleans\n",
    "\n",
    "tired = True\n",
    "while tired:\n",
    "  print('I\\'ll make some coffee!') # this might be a \"say\" command\n",
    "  # code to turn on coffee maker\n",
    "  tired = False\n"
   ]
  },
  {
   "cell_type": "code",
   "execution_count": 9,
   "metadata": {},
   "outputs": [
    {
     "name": "stdout",
     "output_type": "stream",
     "text": [
      "red\n",
      "orange\n",
      "yellow\n",
      "green\n",
      "blue\n",
      "indigo\n",
      "violet\n"
     ]
    }
   ],
   "source": [
    "# For loop\n",
    "\n",
    "# Syntax:\n",
    "# for <item> in <iterable>:\n",
    "#     <statement(s)>\n",
    "\n",
    "\n",
    "visible_colors = ['red', 'orange', 'yellow', 'green', 'blue', 'indigo', 'violet']\n",
    "for color in visible_colors:\n",
    "  print(color)\n"
   ]
  },
  {
   "cell_type": "code",
   "execution_count": 11,
   "metadata": {},
   "outputs": [
    {
     "name": "stdout",
     "output_type": "stream",
     "text": [
      "7 \n",
      "\n",
      "green\n",
      "blue\n",
      "indigo\n",
      "6 \n",
      "\n",
      "green\n",
      "blue\n",
      "violet\n"
     ]
    }
   ],
   "source": [
    "# Loops with Ranges\n",
    "\n",
    "# With while loop\n",
    "\n",
    "visible_colors = ['red', 'orange', 'yellow', 'green', 'blue', 'indigo', 'violet']\n",
    "print(len(visible_colors), '\\n')\n",
    "\n",
    "idx = 3\n",
    "\n",
    "while 2 < idx < 6:\n",
    "    print(visible_colors[idx])\n",
    "    idx += 1\n",
    "\n",
    "\n",
    "# With For loop\n",
    "\n",
    "visible_colors = ['red', 'orange', 'yellow', 'green', 'blue', 'violet']\n",
    "print(len(visible_colors), '\\n')\n",
    "\n",
    "x = range(3, 6)\n",
    "\n",
    "for i in x:\n",
    "    print(visible_colors[i])"
   ]
  },
  {
   "cell_type": "code",
   "execution_count": 15,
   "metadata": {},
   "outputs": [
    {
     "name": "stdout",
     "output_type": "stream",
     "text": [
      "Print whole list... ['red', 'orange', 'yellow', 'green', 'blue', 'violet']\n",
      "Print whole enumerate object... <enumerate object at 0x0000028F250EDA68>\n",
      "(0, 'red')\n",
      "(1, 'orange')\n",
      "(2, 'yellow')\n",
      "(3, 'green')\n",
      "(4, 'blue')\n",
      "(5, 'violet')\n"
     ]
    }
   ],
   "source": [
    "# Enumerate\n",
    "\n",
    "# When looping through a list, you might want to keep track of the index position of the item in each loop iteration.\n",
    "# Converting the list it into an enumerate object allows you to achieve this more easily.\n",
    "\n",
    "\n",
    "visible_colors = ['red', 'orange', 'yellow', 'green', 'blue', 'violet']\n",
    "enum = enumerate(visible_colors)\n",
    "\n",
    "print('Print whole list...', visible_colors)\n",
    "print('Print whole enumerate object...', enum)\n",
    "\n",
    "\n",
    "visible_colors = ['red', 'orange', 'yellow', 'green', 'blue', 'violet']\n",
    "visible_colors = enumerate(visible_colors)\n",
    "\n",
    "for i in visible_colors:\n",
    "    print(i)"
   ]
  },
  {
   "cell_type": "code",
   "execution_count": null,
   "metadata": {},
   "outputs": [],
   "source": []
  },
  {
   "cell_type": "code",
   "execution_count": null,
   "metadata": {},
   "outputs": [],
   "source": [
    "## Control Flow with break, continue"
   ]
  },
  {
   "cell_type": "code",
   "execution_count": 17,
   "metadata": {},
   "outputs": [
    {
     "name": "stdout",
     "output_type": "stream",
     "text": [
      "corge\n",
      "qux\n",
      "baz\n",
      "Done.\n"
     ]
    }
   ],
   "source": [
    "# The break Keyword\n",
    "\n",
    "\n",
    "a = ['foo', 'bar', 'baz', 'qux', 'corge']\n",
    "while a:\n",
    "    if len(a) < 3:\n",
    "        break\n",
    "    print(a.pop())\n",
    "print('Done.')"
   ]
  },
  {
   "cell_type": "code",
   "execution_count": 18,
   "metadata": {},
   "outputs": [
    {
     "name": "stdout",
     "output_type": "stream",
     "text": [
      "foo\n"
     ]
    }
   ],
   "source": [
    "# Usign for loop\n",
    "\n",
    "for i in ['foo', 'bar', 'baz', 'qux']:\n",
    "  if 'b' in i:\n",
    "    break\n",
    "  print(i)"
   ]
  },
  {
   "cell_type": "code",
   "execution_count": 21,
   "metadata": {},
   "outputs": [
    {
     "name": "stdout",
     "output_type": "stream",
     "text": [
      "3foo3bar1foo1bar\n"
     ]
    }
   ],
   "source": [
    "# The continue Keyword\n",
    "\n",
    "\"\"\"\n",
    "You can also use the continue keyword to interrupt the loop code.\n",
    "The difference is that the continue keyword escapes only the current iteration.\n",
    "A break escapes the loop entirely and goes on to execute the code immediately following the loop.\n",
    "A continue tells the program to stop where it is within the within the current iteration and skip to the the next iteration of the loop.\n",
    "\"\"\"\n",
    "\n",
    "s = ''\n",
    "\n",
    "n = 5\n",
    "while n > 0:\n",
    "    n -= 1\n",
    "    if (n % 2) == 0:\n",
    "        continue\n",
    "\n",
    "    a = ['foo', 'bar', 'baz']\n",
    "    while a:\n",
    "        s += str(n) + a.pop(0)\n",
    "        if len(a) < 2:\n",
    "            break\n",
    "\n",
    "print(s)"
   ]
  },
  {
   "cell_type": "code",
   "execution_count": 22,
   "metadata": {},
   "outputs": [
    {
     "name": "stdout",
     "output_type": "stream",
     "text": [
      "foo\n",
      "qux\n"
     ]
    }
   ],
   "source": [
    "# Now using for loop\n",
    "\n",
    "for i in ['foo', 'bar', 'baz', 'qux']:\n",
    "  if 'b' in i:\n",
    "    continue\n",
    "  print(i)"
   ]
  },
  {
   "cell_type": "code",
   "execution_count": null,
   "metadata": {},
   "outputs": [],
   "source": [
    "# Infinite Loop Example\n",
    "\n",
    "\"\"\"\n",
    "a = ['foo', 'bar', 'baz', 'qux', 'corge']\n",
    "while a:\n",
    "    if len(a) < 3:\n",
    "        continue\n",
    "    print(a.pop())\n",
    "print('Done.')\n",
    "\"\"\"\n",
    "\n",
    "# Don't run this or your computer will die. Lol"
   ]
  }
 ],
 "metadata": {
  "kernelspec": {
   "display_name": "Python 3",
   "language": "python",
   "name": "python3"
  },
  "language_info": {
   "codemirror_mode": {
    "name": "ipython",
    "version": 3
   },
   "file_extension": ".py",
   "mimetype": "text/x-python",
   "name": "python",
   "nbconvert_exporter": "python",
   "pygments_lexer": "ipython3",
   "version": "3.7.3"
  }
 },
 "nbformat": 4,
 "nbformat_minor": 2
}
