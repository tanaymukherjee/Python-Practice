{
 "cells": [
  {
   "cell_type": "code",
   "execution_count": 1,
   "metadata": {},
   "outputs": [],
   "source": [
    "## Fucntions"
   ]
  },
  {
   "cell_type": "code",
   "execution_count": null,
   "metadata": {},
   "outputs": [],
   "source": [
    "# A function is a reusable “container” that will abstract away the logic behind a task.\n",
    "# For instance, suppose you are walking through rows of a CSV, converting each “line” which is a string delimited by commas:\n",
    "\n",
    "\"\"\"\n",
    "column_name1, column_name2\n",
    "abc,123\n",
    "\n",
    "Into a dictionary:\n",
    "\n",
    "{“column_name1”:”abc”, “column_name2”:123}\n",
    "\"\"\""
   ]
  },
  {
   "cell_type": "code",
   "execution_count": 4,
   "metadata": {},
   "outputs": [],
   "source": [
    "# Anatomy of a Function\n",
    "\n",
    "def function_name(parameters):\n",
    "  \"\"\"docstring\"\"\"\n",
    "  # statement(s)"
   ]
  },
  {
   "cell_type": "code",
   "execution_count": null,
   "metadata": {},
   "outputs": [],
   "source": [
    "\"\"\"\n",
    "- Naming & Input\n",
    "def shows you are \"defining\" a new function\n",
    "A unique function_name (same naming rules as variables)\n",
    "Optional variables, or parameters, that represent what input the function needs in order to run correctly\n",
    ": ends the function header\n",
    "\n",
    "- Function Body\n",
    "An optional docstring, i.e. a comment that documents the purpose and workings of the function\n",
    "At least one statement is needed in the function body; this code achieves the purpose for calling the function.\n",
    "\n",
    "- Output\n",
    "An optional return statement, which exits the function and passes out some return value(s) from the function's body code.\n",
    "\n",
    "\"\"\""
   ]
  },
  {
   "cell_type": "code",
   "execution_count": 5,
   "metadata": {},
   "outputs": [],
   "source": [
    "# A Simple First Function\n",
    "\n",
    "\"\"\"\n",
    "1. Input the number we want to square\n",
    "2. Calculate the square of that number\n",
    "3. Output the square of that number\n",
    "\n",
    "\"\"\"\n",
    "\n",
    "def num_squared(num):\n",
    "  \"\"\"Find the square of some number passed in\"\"\"\n",
    "  square = num*num # code to find the square\n",
    "  return square"
   ]
  },
  {
   "cell_type": "code",
   "execution_count": 7,
   "metadata": {},
   "outputs": [
    {
     "name": "stdout",
     "output_type": "stream",
     "text": [
      "20\n",
      "20\n"
     ]
    }
   ],
   "source": [
    "# Required vs. Optional Parameters\n",
    "\n",
    "# Required Parameters\n",
    "def plus(a, b):\n",
    "  return a + b\n",
    "c = plus(8, 12)\n",
    "print(c)\n",
    "\n",
    "def plus(a, b):\n",
    "  return a + b\n",
    "c = plus(a=8, b=12)\n",
    "print(c)"
   ]
  },
  {
   "cell_type": "code",
   "execution_count": 13,
   "metadata": {},
   "outputs": [
    {
     "name": "stdout",
     "output_type": "stream",
     "text": [
      "12\n",
      "20\n",
      "6\n",
      "20\n",
      "16\n",
      "20\n"
     ]
    }
   ],
   "source": [
    "# Giving default values:\n",
    "\n",
    "def plus(a, b = 12, c = -1):\n",
    "    return a + b\n",
    "# Explicitly passing values for b & c\n",
    "sum1 = plus(8, b = 4, c = 3)\n",
    "print(sum1) # 15\n",
    "\n",
    "# Implicitly passing default values for b & c\n",
    "sum2 = plus(8)\n",
    "print(sum2) # 20\n",
    "\n",
    "# Explicitly passing values for b & c\n",
    "sum3 = plus(8, b = -2, c = 6)\n",
    "print(sum3) # 12\n",
    "\n",
    "# Implicitly passing default values for b & c\n",
    "sum4 = plus(8)\n",
    "print(sum4) # 20\n",
    "\n",
    "# ...vs. passing values for `a` and implicitly `b`\n",
    "y = plus(a = 4, c = -1)\n",
    "print(y) # 15\n",
    "\n",
    "# ...vs. passing values for `a` and explicitly `c`\n",
    "z = plus(8, c=12)\n",
    "print(z)"
   ]
  },
  {
   "cell_type": "code",
   "execution_count": 15,
   "metadata": {},
   "outputs": [
    {
     "name": "stdout",
     "output_type": "stream",
     "text": [
      "Tanay Mukherjee\n",
      "Ms. Julianna Garreffa\n",
      "Mr. Rupert Malcolm Buckworth III\n"
     ]
    }
   ],
   "source": [
    "\n",
    "def full_name(first, last, middle = None, prefix=None, suffix = None):\n",
    "    parts = [prefix, first, middle, last, suffix]\n",
    "    name = ''\n",
    "    for i in parts:\n",
    "        if i is not None and len(name) != 0:\n",
    "            name += f' {i}'\n",
    "        elif i is not None:\n",
    "            name += f'{i}'\n",
    "    return name\n",
    "\n",
    "name1 = full_name('Tanay', 'Mukherjee')\n",
    "name2 = full_name('Julianna', 'Garreffa', prefix = 'Ms.')\n",
    "name3 = full_name('Rupert', 'Buckworth', suffix = 'III', middle = 'Malcolm', prefix = 'Mr.')\n",
    "\n",
    "print(name1)\n",
    "print(name2)\n",
    "print(name3)\n"
   ]
  },
  {
   "cell_type": "code",
   "execution_count": 18,
   "metadata": {},
   "outputs": [
    {
     "name": "stdout",
     "output_type": "stream",
     "text": [
      "37\n",
      "3\n",
      "[8, 'a', True, 'hi']\n"
     ]
    }
   ],
   "source": [
    "# Variable number of Arguments\n",
    "\n",
    "# Using integers\n",
    "def plus(*args):\n",
    "  return sum(args)\n",
    "\n",
    "c = plus(8,12,17)\n",
    "print(c)\n",
    "\n",
    "\n",
    "# Using different data types\n",
    "def length(*args):\n",
    "  list1 = [*args]\n",
    "  return len(list1)\n",
    "\n",
    "c = length(8,'a',True)\n",
    "print(c)\n",
    "\n",
    "# Using a variable\n",
    "var1 = 'h' + 'i'\n",
    "def print_all(*args):\n",
    "  list1 = [*args]\n",
    "  return list1\n",
    "\n",
    "c = print_all(8,'a',True,var1)\n",
    "print(c)"
   ]
  },
  {
   "cell_type": "code",
   "execution_count": 19,
   "metadata": {},
   "outputs": [
    {
     "name": "stdout",
     "output_type": "stream",
     "text": [
      "I'm a local variable.\n",
      "I'm a global variable.\n",
      "I'm a local variable.\n"
     ]
    }
   ],
   "source": [
    "# Variable Scope Recap\n",
    "\n",
    "x = 'I\\'m a global variable.'\n",
    "\n",
    "def foo():\n",
    "    x = 'I\\'m a local variable.'\n",
    "    print(x) # I'm a local variable.\n",
    "    return x\n",
    "\n",
    "y = foo()\n",
    "\n",
    "print(x)\n",
    "print(y)"
   ]
  }
 ],
 "metadata": {
  "kernelspec": {
   "display_name": "Python 3",
   "language": "python",
   "name": "python3"
  },
  "language_info": {
   "codemirror_mode": {
    "name": "ipython",
    "version": 3
   },
   "file_extension": ".py",
   "mimetype": "text/x-python",
   "name": "python",
   "nbconvert_exporter": "python",
   "pygments_lexer": "ipython3",
   "version": "3.7.3"
  }
 },
 "nbformat": 4,
 "nbformat_minor": 2
}
