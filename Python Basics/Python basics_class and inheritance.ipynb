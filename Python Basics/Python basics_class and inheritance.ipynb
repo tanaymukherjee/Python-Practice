{
 "cells": [
  {
   "cell_type": "code",
   "execution_count": 1,
   "metadata": {},
   "outputs": [],
   "source": [
    "## Classes & Inheritance"
   ]
  },
  {
   "cell_type": "code",
   "execution_count": null,
   "metadata": {},
   "outputs": [],
   "source": [
    "# Creating & Structuring Classes\n",
    "\n",
    "\n",
    "# Define a class called Animal\n",
    "class Animal:\n",
    "    # attributes\n",
    "    # methods\n",
    "    # etc ...\n",
    "\n",
    "# Create the most basic instance\n",
    "    chameleons = Animal()"
   ]
  },
  {
   "cell_type": "code",
   "execution_count": null,
   "metadata": {},
   "outputs": [],
   "source": [
    "# Attributes & Methods\n",
    "\n",
    "class Animal:\n",
    "    kingdom = 'Animalia' # attribute"
   ]
  },
  {
   "cell_type": "code",
   "execution_count": null,
   "metadata": {},
   "outputs": [],
   "source": [
    "class Animal:\n",
    "    # some other code...\n",
    "\n",
    "    def method1(self): # method\n",
    "        # some action...."
   ]
  },
  {
   "cell_type": "code",
   "execution_count": null,
   "metadata": {},
   "outputs": [],
   "source": [
    "chameleons = Animal() # Create the instance.\n",
    "\n",
    "print(chameleons.kingdom) # 'Animalia'\n",
    "\n",
    "chameleons.method1() # This completes the defined method operations."
   ]
  },
  {
   "cell_type": "code",
   "execution_count": null,
   "metadata": {},
   "outputs": [],
   "source": []
  },
  {
   "cell_type": "code",
   "execution_count": null,
   "metadata": {},
   "outputs": [],
   "source": [
    "## Inheritance Basics"
   ]
  },
  {
   "cell_type": "code",
   "execution_count": null,
   "metadata": {},
   "outputs": [],
   "source": [
    "class Elephant(Animal):\n",
    "    # attributes\n",
    "    # methods\n",
    "    # etc ..."
   ]
  },
  {
   "cell_type": "code",
   "execution_count": null,
   "metadata": {},
   "outputs": [],
   "source": [
    "class Animal:\n",
    "    category = 'Animals'\n",
    "    # etc ...\n",
    "\n",
    "class Toucan(Animal):\n",
    "    category = 'Birds'\n",
    "    # etc ...\n"
   ]
  },
  {
   "cell_type": "code",
   "execution_count": null,
   "metadata": {},
   "outputs": [],
   "source": [
    "class Animal():\n",
    "    def __init__(self):\n",
    "        # ...\n"
   ]
  },
  {
   "cell_type": "code",
   "execution_count": null,
   "metadata": {},
   "outputs": [],
   "source": []
  },
  {
   "cell_type": "code",
   "execution_count": 11,
   "metadata": {},
   "outputs": [],
   "source": [
    "## Class vs. Instance Variables"
   ]
  },
  {
   "cell_type": "code",
   "execution_count": null,
   "metadata": {},
   "outputs": [],
   "source": [
    "# The init() Method & the self Keyword\n",
    "\n",
    "\n",
    "class Animal():\n",
    "    def __init__(self):\n",
    "        # ..."
   ]
  },
  {
   "cell_type": "code",
   "execution_count": 12,
   "metadata": {},
   "outputs": [],
   "source": [
    "# Class Definition Example 1 - Basic Elements in Context\n",
    "\n",
    "class Animal: # A.\n",
    "    def __init__(self, species = '', diet= ''): # B. \n",
    "        self.species = species # C.\n",
    "        self.diet = diet # C.\n",
    "\n",
    "    kingdom = 'Animalia' # D.\n",
    "\n",
    "    def my_kingdom(self):\n",
    "        print(self.kingdom)\n",
    "\n",
    "    def feed_me(self): # E.\n",
    "        if self.diet == 'omnivore':\n",
    "            food = 'plants and meat'\n",
    "        elif self.diet == 'carnivore':\n",
    "            food = 'meat'\n",
    "        elif self.diet == 'herbivore':\n",
    "            food = 'plants'\n",
    "        print(f'{self.species} eat {food}!')\n",
    "        return None"
   ]
  },
  {
   "cell_type": "code",
   "execution_count": 13,
   "metadata": {},
   "outputs": [],
   "source": [
    "# Class Definition Example 2 - Child Classes & Inheritance\n",
    "\n",
    "\n",
    "class Elephant(Animal): # A.\n",
    "    def __init__(self, name, genus = '', species = '', habitat = '', age = None): # B.\n",
    "        self.name = name\n",
    "        self.genus = genus\n",
    "        self.species = species\n",
    "        self.habitat = habitat\n",
    "        self.age = age\n",
    "        self.taxonomy = {'Kingdom': Animal.kingdom, 'Class': self.common_taxonomy['Class'], 'Family': self.common_taxonomy['Family'], 'Genus': self.genus, 'Species': self.species} # C.\n",
    "\n",
    "    diet = 'Herbivore' # D.\n",
    "\n",
    "    common_taxonomy = {\n",
    "    'Class': 'Mammalia',\n",
    "    'Family': 'Elephantidae',\n",
    "    }\n",
    "\n",
    "    def summary(self):\n",
    "      print(f'All about {self.name} -')\n",
    "      print(f'Elephant, age {self.age}\\nHabitat: {self.habitat}\\nDiet: {self.diet}\\n\\nTaxonomy:')\n",
    "      for k,v in self.taxonomy.items():\n",
    "        print(f'{k}: {v}')"
   ]
  },
  {
   "cell_type": "code",
   "execution_count": null,
   "metadata": {},
   "outputs": [],
   "source": [
    "# Class Instantiation & Modification\n",
    "\n",
    "elephant1 = Elephant('Felicia', 'Elephas', 'Elephas maximus', '', 38)\n",
    "# Notice we passed the default empty string for the habitat argument.\n",
    "\n",
    "You can access or modify any instance attribute like so:\n",
    "# Access\n",
    "print(elephant1.name) # Felicia\n",
    "\n",
    "\n",
    "# Add value for an empty attribute\n",
    "print(elephant1.habitat) # empty string by default\n",
    "elephant1.habitat = 'Asian forests'\n",
    "\n",
    "\n",
    "# Update an existing attribute value\n",
    "print(elephant1.age) # 38\n",
    "elephant1.age = 39 # Update the value of the age attribute.\n",
    "print(elephant1.age) # 39\n",
    "\n",
    "# Define a new instance attribute, which will apply only to elephant1.\n",
    "elephant1.weight_pounds = 6000"
   ]
  },
  {
   "cell_type": "code",
   "execution_count": null,
   "metadata": {},
   "outputs": [],
   "source": [
    "elephant1.summary()\n",
    "\n",
    "# Here's the output\n",
    "\"\"\"\n",
    "All about Felicia -\n",
    "Elephant, age 38\n",
    "Habitat: Asian forests\n",
    "Diet: Herbivore\n",
    "\n",
    "Taxonomy:\n",
    "Kingdom: Animalia\n",
    "Class: Mammalia\n",
    "Family: Elephantidae\n",
    "Genus: Elephas\n",
    "Species: Elephas maximus\n",
    "\"\"\""
   ]
  },
  {
   "cell_type": "code",
   "execution_count": null,
   "metadata": {},
   "outputs": [],
   "source": [
    "# Checking Class Values\n",
    "\n",
    "\n",
    "# Is elephant1 an instance of Animal()?\n",
    "print(isinstance(elephant1, Animal)) # True\n",
    "\n",
    "# Is toucan1 an instance of Elephant()?\n",
    "print(isinstance(toucan1, Elephant)) # False"
   ]
  }
 ],
 "metadata": {
  "kernelspec": {
   "display_name": "Python 3",
   "language": "python",
   "name": "python3"
  },
  "language_info": {
   "codemirror_mode": {
    "name": "ipython",
    "version": 3
   },
   "file_extension": ".py",
   "mimetype": "text/x-python",
   "name": "python",
   "nbconvert_exporter": "python",
   "pygments_lexer": "ipython3",
   "version": "3.7.3"
  }
 },
 "nbformat": 4,
 "nbformat_minor": 2
}
