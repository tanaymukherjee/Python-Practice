{
 "cells": [
  {
   "cell_type": "code",
   "execution_count": null,
   "metadata": {},
   "outputs": [],
   "source": [
    "## Workign with lists"
   ]
  },
  {
   "cell_type": "code",
   "execution_count": 1,
   "metadata": {},
   "outputs": [],
   "source": [
    "# Creating Lists\n",
    "\n",
    "# Empty\n",
    "empty1 = []\n",
    "empty2 = list()\n",
    "\n",
    "# Mixed Data Types\n",
    "mix1 = [True, ['seal', 'spider monkey'], 22, 'lion', [False, 13]]\n",
    "mix2 = list([True, ['seal', 'spider monkey'], 22, 'lion', [False, 13]])\n",
    "\n",
    "# Nested List\n",
    "nested1 = [['circus', 'clown'], ['trapeze', 'artist']]\n",
    "nested2 = list([['circus', 'clown'], ['trapeze', 'artist']])"
   ]
  },
  {
   "cell_type": "code",
   "execution_count": 7,
   "metadata": {},
   "outputs": [
    {
     "ename": "TypeError",
     "evalue": "list expected at most 1 arguments, got 3",
     "output_type": "error",
     "traceback": [
      "\u001b[1;31m---------------------------------------------------------------------------\u001b[0m",
      "\u001b[1;31mTypeError\u001b[0m                                 Traceback (most recent call last)",
      "\u001b[1;32m<ipython-input-7-6d9b847af091>\u001b[0m in \u001b[0;36m<module>\u001b[1;34m\u001b[0m\n\u001b[1;32m----> 1\u001b[1;33m \u001b[0mcolors\u001b[0m \u001b[1;33m=\u001b[0m \u001b[0mlist\u001b[0m\u001b[1;33m(\u001b[0m\u001b[1;34m'red'\u001b[0m\u001b[1;33m,\u001b[0m \u001b[1;34m'yellow'\u001b[0m\u001b[1;33m,\u001b[0m \u001b[1;34m'green'\u001b[0m\u001b[1;33m)\u001b[0m\u001b[1;33m\u001b[0m\u001b[1;33m\u001b[0m\u001b[0m\n\u001b[0m",
      "\u001b[1;31mTypeError\u001b[0m: list expected at most 1 arguments, got 3"
     ]
    }
   ],
   "source": [
    "# Can't pass multiple arguments in list function\n",
    "colors = list('red', 'yellow', 'green')"
   ]
  },
  {
   "cell_type": "code",
   "execution_count": 6,
   "metadata": {},
   "outputs": [
    {
     "name": "stdout",
     "output_type": "stream",
     "text": [
      "['red', 'yellow', 'green']\n"
     ]
    }
   ],
   "source": [
    "# Like this:\n",
    "colors1 = list(['red', 'yellow', 'green'])\n",
    "print(colors1)"
   ]
  },
  {
   "cell_type": "code",
   "execution_count": null,
   "metadata": {},
   "outputs": [],
   "source": [
    "# Even if you do pass only one item, you still have to enclose it with [].\n",
    "# If you pass a single number or a single boolean without using brackets, you'll get a TypeError."
   ]
  },
  {
   "cell_type": "code",
   "execution_count": 8,
   "metadata": {},
   "outputs": [
    {
     "ename": "TypeError",
     "evalue": "'int' object is not iterable",
     "output_type": "error",
     "traceback": [
      "\u001b[1;31m---------------------------------------------------------------------------\u001b[0m",
      "\u001b[1;31mTypeError\u001b[0m                                 Traceback (most recent call last)",
      "\u001b[1;32m<ipython-input-8-1830081ef687>\u001b[0m in \u001b[0;36m<module>\u001b[1;34m\u001b[0m\n\u001b[1;32m----> 1\u001b[1;33m \u001b[0mx\u001b[0m \u001b[1;33m=\u001b[0m \u001b[0mlist\u001b[0m\u001b[1;33m(\u001b[0m\u001b[1;36m100\u001b[0m\u001b[1;33m)\u001b[0m \u001b[1;31m# or any float e.g. 100.0\u001b[0m\u001b[1;33m\u001b[0m\u001b[1;33m\u001b[0m\u001b[0m\n\u001b[0m\u001b[0;32m      2\u001b[0m \u001b[1;31m### TypeError: 'int' object is not iterable\u001b[0m\u001b[1;33m\u001b[0m\u001b[1;33m\u001b[0m\u001b[1;33m\u001b[0m\u001b[0m\n\u001b[0;32m      3\u001b[0m \u001b[1;33m\u001b[0m\u001b[0m\n\u001b[0;32m      4\u001b[0m \u001b[0my\u001b[0m \u001b[1;33m=\u001b[0m \u001b[0mlist\u001b[0m\u001b[1;33m(\u001b[0m\u001b[1;32mTrue\u001b[0m\u001b[1;33m)\u001b[0m \u001b[1;31m# booleans\u001b[0m\u001b[1;33m\u001b[0m\u001b[1;33m\u001b[0m\u001b[0m\n\u001b[0;32m      5\u001b[0m \u001b[1;31m### TypeError: 'bool' object is not iterable\u001b[0m\u001b[1;33m\u001b[0m\u001b[1;33m\u001b[0m\u001b[1;33m\u001b[0m\u001b[0m\n",
      "\u001b[1;31mTypeError\u001b[0m: 'int' object is not iterable"
     ]
    }
   ],
   "source": [
    "x = list(100) # or any float e.g. 100.0\n",
    "### TypeError: 'int' object is not iterable\n",
    "\n",
    "y = list(True) # booleans\n",
    "### TypeError: 'bool' object is not iterable"
   ]
  },
  {
   "cell_type": "code",
   "execution_count": 9,
   "metadata": {},
   "outputs": [
    {
     "name": "stdout",
     "output_type": "stream",
     "text": [
      "['L', 'a', 'y', 'l', 'a']\n"
     ]
    }
   ],
   "source": [
    "#And if you pass a string without using brackets, you won't get quite what you want.\n",
    "z = list('Layla')\n",
    "print(z)"
   ]
  },
  {
   "cell_type": "code",
   "execution_count": 10,
   "metadata": {},
   "outputs": [
    {
     "name": "stdout",
     "output_type": "stream",
     "text": [
      "['I', ' ', 'l', 'i', 'k', 'e', ' ', 't', 'o', ' ', 's', 'l', 'e', 'e', 'p', '!']\n"
     ]
    }
   ],
   "source": [
    "# And if you think it works for sentences by parsing a new list element at each space character...nope!\n",
    "sentence = list('I like to sleep!')\n",
    "print(sentence)"
   ]
  },
  {
   "cell_type": "code",
   "execution_count": null,
   "metadata": {},
   "outputs": [],
   "source": []
  },
  {
   "cell_type": "code",
   "execution_count": null,
   "metadata": {},
   "outputs": [],
   "source": [
    "## Accessing Elements in the List"
   ]
  },
  {
   "cell_type": "code",
   "execution_count": 11,
   "metadata": {},
   "outputs": [
    {
     "name": "stdout",
     "output_type": "stream",
     "text": [
      "snickerdoodles\n",
      "shortbread\n",
      "macarons\n"
     ]
    }
   ],
   "source": [
    "# To access one of them use the syntax list_name[index_position]\n",
    "cookies = ['snickerdoodles', 'shortbread', 'oatmeal raisin', 'gingersnaps', 'macarons']\n",
    "print(cookies[0]) # snickerdoodles\n",
    "print(cookies[1]) # shortbread\n",
    "print(cookies[4]) # macarons"
   ]
  },
  {
   "cell_type": "code",
   "execution_count": 12,
   "metadata": {},
   "outputs": [
    {
     "name": "stdout",
     "output_type": "stream",
     "text": [
      "circus\n",
      "trapeze\n"
     ]
    }
   ],
   "source": [
    "# For nested list\n",
    "nested_lists = list([['circus', 'clown'], ['trapeze', 'artist']])\n",
    "print(nested_lists[0][0])\n",
    "print(nested_lists[1][0])"
   ]
  },
  {
   "cell_type": "code",
   "execution_count": 13,
   "metadata": {},
   "outputs": [
    {
     "name": "stdout",
     "output_type": "stream",
     "text": [
      "5\n"
     ]
    }
   ],
   "source": [
    "# The len() function will give you the total number of list elements\n",
    "cookies = ['snickerdoodles', 'shortbread', 'oatmeal raisin', 'gingersnaps', 'macarons']\n",
    "types_of_cookies = len(cookies)\n",
    "print(types_of_cookies)"
   ]
  },
  {
   "cell_type": "code",
   "execution_count": 14,
   "metadata": {},
   "outputs": [
    {
     "ename": "IndexError",
     "evalue": "list index out of range",
     "output_type": "error",
     "traceback": [
      "\u001b[1;31m---------------------------------------------------------------------------\u001b[0m",
      "\u001b[1;31mIndexError\u001b[0m                                Traceback (most recent call last)",
      "\u001b[1;32m<ipython-input-14-b0efdcb3f2e2>\u001b[0m in \u001b[0;36m<module>\u001b[1;34m\u001b[0m\n\u001b[1;32m----> 1\u001b[1;33m \u001b[0mprint\u001b[0m\u001b[1;33m(\u001b[0m\u001b[0mcookies\u001b[0m\u001b[1;33m[\u001b[0m\u001b[0mtypes_of_cookies\u001b[0m\u001b[1;33m]\u001b[0m\u001b[1;33m)\u001b[0m\u001b[1;33m\u001b[0m\u001b[1;33m\u001b[0m\u001b[0m\n\u001b[0m",
      "\u001b[1;31mIndexError\u001b[0m: list index out of range"
     ]
    }
   ],
   "source": [
    "# If you pass in any list index greater than or equal to the length of the list, you will get an IndexError:\n",
    "print(cookies[types_of_cookies])"
   ]
  },
  {
   "cell_type": "code",
   "execution_count": 15,
   "metadata": {},
   "outputs": [
    {
     "name": "stdout",
     "output_type": "stream",
     "text": [
      "macarons\n"
     ]
    }
   ],
   "source": [
    "cookies = ['snickerdoodles', 'shortbread', 'oatmeal raisin', 'gingersnaps', 'macarons']\n",
    "types_of_cookies = len(cookies)\n",
    "\n",
    "# (types_of_cookies - 1) is the index of the last element\n",
    "print(cookies[types_of_cookies - 1])"
   ]
  },
  {
   "cell_type": "code",
   "execution_count": 16,
   "metadata": {},
   "outputs": [
    {
     "name": "stdout",
     "output_type": "stream",
     "text": [
      "macarons\n",
      "2nd to last item is gingersnaps\n",
      "3rd to last item is oatmeal raisin\n"
     ]
    }
   ],
   "source": [
    "# Negative indexing\n",
    "\n",
    "print(cookies[-1])\n",
    "\n",
    "print(f'2nd to last item is {cookies[-2]}')\n",
    "print(f'3rd to last item is {cookies[-3]}')\n"
   ]
  },
  {
   "cell_type": "code",
   "execution_count": 17,
   "metadata": {},
   "outputs": [
    {
     "name": "stdout",
     "output_type": "stream",
     "text": [
      "['oatmeal raisin', 'gingerbread']\n"
     ]
    }
   ],
   "source": [
    "# Selecting ranges\n",
    "cookies = ['snickerdoodle', 'chocolate chip', 'shortbread', 'oatmeal raisin', 'gingerbread', 'pizelle', 'macarons', 'gingersnaps']\n",
    "print(cookies[3:5])\n",
    "\n",
    "# NOTE: the upper bound is NOT inclusive."
   ]
  },
  {
   "cell_type": "code",
   "execution_count": null,
   "metadata": {},
   "outputs": [],
   "source": [
    "# Omitting one or both bounds acts as a shortcut when the length and order of your list might vary.\n",
    "# It allows you to say, \"Give me everything from the beginning of the list to index x\" or \n",
    "# \"Give me everything from index x and onward.\""
   ]
  },
  {
   "cell_type": "code",
   "execution_count": 21,
   "metadata": {},
   "outputs": [
    {
     "name": "stdout",
     "output_type": "stream",
     "text": [
      "[:2] --  ['snickerdoodle', 'chocolate chip']\n",
      "[2:] --  ['shortbread', 'oatmeal raisin', 'gingerbread', 'pizelle', 'macarons', 'gingersnaps']\n"
     ]
    }
   ],
   "source": [
    "cookies = ['snickerdoodle', 'chocolate chip', 'shortbread', 'oatmeal raisin', 'gingerbread', 'pizelle', 'macarons', 'gingersnaps']\n",
    "\n",
    "print('[:2] -- ', cookies[:2])\n",
    "print('[2:] -- ', cookies[2:])"
   ]
  },
  {
   "cell_type": "code",
   "execution_count": null,
   "metadata": {},
   "outputs": [],
   "source": []
  },
  {
   "cell_type": "code",
   "execution_count": null,
   "metadata": {},
   "outputs": [],
   "source": [
    "## Editing List Content"
   ]
  },
  {
   "cell_type": "code",
   "execution_count": 22,
   "metadata": {},
   "outputs": [
    {
     "name": "stdout",
     "output_type": "stream",
     "text": [
      ".append(): ['apple', 'pumpkin', 'pecan', 'blueberry', ['lemon meringue', 'strawberry peach', 'banana cream']]\n",
      "\n",
      ".extend(): ['apple', 'pumpkin', 'pecan', 'blueberry', 'lemon meringue', 'strawberry peach', 'banana cream']\n"
     ]
    }
   ],
   "source": [
    "# .append() vs. .extend()\n",
    "\n",
    "\n",
    "pies = ['apple', 'pumpkin', 'pecan', 'blueberry']\n",
    "more_pies = ['lemon meringue', 'strawberry peach', 'banana cream']\n",
    "\n",
    "pies.append(more_pies)\n",
    "print(f'.append(): {pies}\\n')\n",
    "\n",
    "\n",
    "pies = ['apple', 'pumpkin', 'pecan', 'blueberry']\n",
    "more_pies = ['lemon meringue', 'strawberry peach', 'banana cream']\n",
    "\n",
    "pies.extend(more_pies)\n",
    "print(f'.extend(): {pies}')"
   ]
  },
  {
   "cell_type": "code",
   "execution_count": null,
   "metadata": {},
   "outputs": [],
   "source": [
    "# .extend() only considers individual values of the parent list passed in."
   ]
  },
  {
   "cell_type": "code",
   "execution_count": 23,
   "metadata": {},
   "outputs": [
    {
     "name": "stdout",
     "output_type": "stream",
     "text": [
      "['a', 'b', 'c', 'd', 'e', ['f', 'g'], ['h', 'i'], 'j']\n"
     ]
    }
   ],
   "source": [
    "x = ['a', 'b', 'c', 'd']\n",
    "y = ['e', ['f', 'g'], ['h', 'i'], 'j']\n",
    "x.extend(y)\n",
    "print(x)\n",
    "\n",
    "# It still adds the nested lists - ['f', 'g'] and ['h', 'i'] - to our list x as their own items."
   ]
  },
  {
   "cell_type": "code",
   "execution_count": 24,
   "metadata": {},
   "outputs": [
    {
     "name": "stdout",
     "output_type": "stream",
     "text": [
      "['apple', 'key lime', 'pumpkin', 'pecan', 'blueberry']\n"
     ]
    }
   ],
   "source": [
    "# .insert(index, value)\n",
    "pies = ['apple', 'pumpkin', 'pecan', 'blueberry']\n",
    "pies.insert(1, 'key lime')\n",
    "print(pies)"
   ]
  },
  {
   "cell_type": "code",
   "execution_count": 25,
   "metadata": {},
   "outputs": [
    {
     "name": "stdout",
     "output_type": "stream",
     "text": [
      "['apple', ['lemon meringue', 'strawberry peach'], 'pumpkin', 'pecan', 'blueberry']\n"
     ]
    }
   ],
   "source": [
    "# Whatever you pass into the value parameter will be added as a single element though!\n",
    "pies = ['apple', 'pumpkin', 'pecan', 'blueberry']\n",
    "pies.insert(1, ['lemon meringue', 'strawberry peach'])\n",
    "print(pies)"
   ]
  },
  {
   "cell_type": "code",
   "execution_count": 26,
   "metadata": {},
   "outputs": [
    {
     "name": "stdout",
     "output_type": "stream",
     "text": [
      "The blueberry pie got eaten.\n",
      "['cherry', 'lemon meringue', 'pecan', 'key lime', 'blackberry', 'strawberry peach']\n"
     ]
    }
   ],
   "source": [
    "# Remove Items from a List\n",
    "\n",
    "pies = ['cherry', 'lemon meringue', 'pecan', 'key lime', 'blackberry', 'strawberry peach', 'blueberry']\n",
    "eaten = pies.pop()\n",
    "print(f'The {eaten} pie got eaten.')\n",
    "print(pies)"
   ]
  },
  {
   "cell_type": "code",
   "execution_count": 27,
   "metadata": {},
   "outputs": [
    {
     "name": "stdout",
     "output_type": "stream",
     "text": [
      "The pecan pie got eaten.\n"
     ]
    }
   ],
   "source": [
    "# Removin items from a list using index\n",
    "\n",
    "\n",
    "\n",
    "pies = ['cherry', 'lemon meringue', 'pecan', 'key lime', 'blackberry', 'strawberry peach']\n",
    "eaten = pies.pop(2) # Remember to count from 0!\n",
    "print(f'The {eaten} pie got eaten.')"
   ]
  },
  {
   "cell_type": "code",
   "execution_count": null,
   "metadata": {},
   "outputs": [],
   "source": []
  },
  {
   "cell_type": "code",
   "execution_count": null,
   "metadata": {},
   "outputs": [],
   "source": [
    "## Copying Lists"
   ]
  },
  {
   "cell_type": "code",
   "execution_count": 28,
   "metadata": {},
   "outputs": [
    {
     "name": "stdout",
     "output_type": "stream",
     "text": [
      "\n",
      "pies1: ['strawberry', 'cherry', 'blackberry', 'blueberry']\n",
      "pies2: ['strawberry', 'cherry', 'blackberry', 'blueberry']\n",
      "pies3: ['strawberry', 'cherry', 'blackberry', 'blueberry']\n",
      "\n"
     ]
    }
   ],
   "source": [
    "# Different ways to copy a list\n",
    "\n",
    "pies1 = ['strawberry', 'cherry', 'blackberry', 'blueberry']\n",
    "pies2 = pies1\n",
    "pies3 = pies1[:]\n",
    "\n",
    "print(f'''\n",
    "pies1: {pies1}\n",
    "pies2: {pies2}\n",
    "pies3: {pies3}\n",
    "''')\n"
   ]
  },
  {
   "cell_type": "code",
   "execution_count": 29,
   "metadata": {},
   "outputs": [
    {
     "name": "stdout",
     "output_type": "stream",
     "text": [
      "\n",
      "BEFORE:\n",
      "pies1: ['strawberry', 'cherry', 'blackberry', 'blueberry']\n",
      "pies2: ['strawberry', 'cherry', 'blackberry', 'blueberry']\n",
      "\n",
      "\n",
      "AFTER pies2.pop():\n",
      "pies1: ['strawberry', 'cherry', 'blackberry']\n",
      "pies2: ['strawberry', 'cherry', 'blackberry']\n",
      "\n"
     ]
    }
   ],
   "source": [
    "# With the first method, you're saying that pies2 points to the place in memory where pies1 is stored. \n",
    "\n",
    "pies1 = ['strawberry', 'cherry', 'blackberry', 'blueberry']\n",
    "pies2 = pies1\n",
    "\n",
    "print(f'''\n",
    "BEFORE:\n",
    "pies1: {pies1}\n",
    "pies2: {pies2}\n",
    "''')\n",
    "\n",
    "pies2.pop()\n",
    "\n",
    "print(f'''\n",
    "AFTER pies2.pop():\n",
    "pies1: {pies1}\n",
    "pies2: {pies2}\n",
    "''')"
   ]
  },
  {
   "cell_type": "code",
   "execution_count": 30,
   "metadata": {},
   "outputs": [],
   "source": [
    "# A deep copy creates a separate instance of the list in the program's memory so that the two are not tied together at all.\n",
    "# Editing a deep copy like pies3 will NOT alter pies1."
   ]
  },
  {
   "cell_type": "code",
   "execution_count": 31,
   "metadata": {},
   "outputs": [
    {
     "name": "stdout",
     "output_type": "stream",
     "text": [
      "\n",
      "BEFORE:\n",
      "pies1: ['strawberry', 'cherry', 'blackberry', 'blueberry']\n",
      "pies2: ['strawberry', 'cherry', 'blackberry', 'blueberry']\n",
      "\n",
      "\n",
      "AFTER pies3.pop():\n",
      "pies1: ['strawberry', 'cherry', 'blackberry', 'blueberry']\n",
      "pies3: ['strawberry', 'cherry', 'blackberry']\n",
      "\n"
     ]
    }
   ],
   "source": [
    "\n",
    "pies1 = ['strawberry', 'cherry', 'blackberry', 'blueberry']\n",
    "pies3 = pies1[:]\n",
    "\n",
    "print(f'''\n",
    "BEFORE:\n",
    "pies1: {pies1}\n",
    "pies2: {pies3}\n",
    "''')\n",
    "\n",
    "pies3.pop()\n",
    "\n",
    "print(f'''\n",
    "AFTER pies3.pop():\n",
    "pies1: {pies1}\n",
    "pies3: {pies3}\n",
    "''')"
   ]
  },
  {
   "cell_type": "code",
   "execution_count": null,
   "metadata": {},
   "outputs": [],
   "source": []
  },
  {
   "cell_type": "code",
   "execution_count": 32,
   "metadata": {},
   "outputs": [
    {
     "name": "stdout",
     "output_type": "stream",
     "text": [
      "['banana cream', 'pumpkin', 'pecan', 'blueberry']\n",
      "['banana cream', ['key lime', 'lemon meringue'], 'pecan', 'blueberry']\n"
     ]
    }
   ],
   "source": [
    "# Update/Replace Items in a List\n",
    "\n",
    "pies = ['apple', 'pumpkin', 'pecan', 'blueberry']\n",
    "pies[0] = 'banana cream'\n",
    "print(pies)\n",
    "\n",
    "\n",
    "pies = ['banana cream', 'pumpkin', 'pecan', 'blueberry']\n",
    "pies[1] = ['key lime', 'lemon meringue']\n",
    "print(pies)"
   ]
  },
  {
   "cell_type": "code",
   "execution_count": 33,
   "metadata": {},
   "outputs": [
    {
     "name": "stdout",
     "output_type": "stream",
     "text": [
      "['strawberry', 'blueberry', 'cherry', 'blackberry']\n",
      "['apple', 'pumpkin', 'pecan', 'cherry', 'blackberry']\n"
     ]
    }
   ],
   "source": [
    "# If you specify a range of index positions, each item in the group gets added individually (sort of like .extend()).\n",
    "\n",
    "pies = ['strawberry', 'banana cream', 'key lime']\n",
    "pies[1:] = ['blueberry', 'cherry', 'blackberry']\n",
    "print(pies)\n",
    "\n",
    "pies = ['strawberry', 'blueberry', 'cherry', 'blackberry']\n",
    "pies[:2] = ['apple', 'pumpkin', 'pecan']\n",
    "print(pies)"
   ]
  },
  {
   "cell_type": "code",
   "execution_count": 34,
   "metadata": {},
   "outputs": [
    {
     "name": "stdout",
     "output_type": "stream",
     "text": [
      "['strawberry', 'blueberry', 'apple', 'pumpkin']\n",
      "['strawberry', 'b', 'l', 'u', 'e', 'b', 'e', 'r', 'r', 'y', 'apple', 'pumpkin']\n"
     ]
    }
   ],
   "source": [
    "# Even if you pass one new element, it must be in list format.\n",
    "\n",
    "pies1 = ['strawberry', 'banana cream', 'key lime', 'apple', 'pumpkin']\n",
    "pies2 = pies1[:]\n",
    "\n",
    "pies1[1:3] = ['blueberry']\n",
    "pies2[1:3] = 'blueberry'\n",
    "print(pies1)\n",
    "print(pies2)"
   ]
  },
  {
   "cell_type": "code",
   "execution_count": 36,
   "metadata": {},
   "outputs": [
    {
     "name": "stdout",
     "output_type": "stream",
     "text": [
      "julianna\n",
      "This is fun.\n"
     ]
    }
   ],
   "source": [
    "# Join Items\n",
    "\n",
    "letters = ['j', 'u', 'l', 'i', 'a', 'n', 'n', 'a']\n",
    "name = ''.join(letters)\n",
    "print(name)\n",
    "\n",
    "words = ['This', 'is', 'fun']\n",
    "sentence = ' '.join(words)\n",
    "print(f'{sentence}.')"
   ]
  },
  {
   "cell_type": "code",
   "execution_count": 37,
   "metadata": {},
   "outputs": [
    {
     "name": "stdout",
     "output_type": "stream",
     "text": [
      "['this', 'is', 'fun']\n",
      "['Sandra', 'hi@email.com', '646-212-1234', '8 Cherry Lane', 'Splitsville', 'FL', '58028']\n"
     ]
    }
   ],
   "source": [
    "# Split items\n",
    "\n",
    "x = 'this is fun'\n",
    "sentence = x.split() # note - using default split char at space\n",
    "print(sentence)\n",
    "\n",
    "y = 'Sandra,hi@email.com,646-212-1234,8 Cherry Lane,Splitsville,FL,58028'\n",
    "data = y.split(',')\n",
    "print(data)"
   ]
  }
 ],
 "metadata": {
  "kernelspec": {
   "display_name": "Python 3",
   "language": "python",
   "name": "python3"
  },
  "language_info": {
   "codemirror_mode": {
    "name": "ipython",
    "version": 3
   },
   "file_extension": ".py",
   "mimetype": "text/x-python",
   "name": "python",
   "nbconvert_exporter": "python",
   "pygments_lexer": "ipython3",
   "version": "3.7.3"
  }
 },
 "nbformat": 4,
 "nbformat_minor": 2
}
