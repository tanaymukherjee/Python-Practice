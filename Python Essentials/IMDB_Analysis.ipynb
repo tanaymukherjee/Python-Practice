{
  "nbformat": 4,
  "nbformat_minor": 0,
  "metadata": {
    "colab": {
      "name": "IMDB Analysis.ipynb",
      "provenance": [],
      "collapsed_sections": [],
      "authorship_tag": "ABX9TyMB91XsCag8HDrw5fEPuvQJ",
      "include_colab_link": true
    },
    "kernelspec": {
      "name": "python3",
      "display_name": "Python 3"
    }
  },
  "cells": [
    {
      "cell_type": "markdown",
      "metadata": {
        "id": "view-in-github",
        "colab_type": "text"
      },
      "source": [
        "<a href=\"https://colab.research.google.com/github/tanaymukherjee/Python-Practice/blob/master/Python%20Essentials/IMDB_Analysis.ipynb\" target=\"_parent\"><img src=\"https://colab.research.google.com/assets/colab-badge.svg\" alt=\"Open In Colab\"/></a>"
      ]
    },
    {
      "cell_type": "code",
      "metadata": {
        "id": "xsKekCRw-nji",
        "colab_type": "code",
        "colab": {
          "base_uri": "https://localhost:8080/",
          "height": 125
        },
        "outputId": "34659ef6-4856-4851-a16e-199d39257670"
      },
      "source": [
        "# Mounting google colab with personal GDrive\n",
        "\n",
        "from google.colab import drive\n",
        "drive.mount('/content/gdrive')"
      ],
      "execution_count": 2,
      "outputs": [
        {
          "output_type": "stream",
          "text": [
            "Go to this URL in a browser: https://accounts.google.com/o/oauth2/auth?client_id=947318989803-6bn6qk8qdgf4n4g3pfee6491hc0brc4i.apps.googleusercontent.com&redirect_uri=urn%3aietf%3awg%3aoauth%3a2.0%3aoob&response_type=code&scope=email%20https%3a%2f%2fwww.googleapis.com%2fauth%2fdocs.test%20https%3a%2f%2fwww.googleapis.com%2fauth%2fdrive%20https%3a%2f%2fwww.googleapis.com%2fauth%2fdrive.photos.readonly%20https%3a%2f%2fwww.googleapis.com%2fauth%2fpeopleapi.readonly\n",
            "\n",
            "Enter your authorization code:\n",
            "··········\n",
            "Mounted at /content/gdrive\n"
          ],
          "name": "stdout"
        }
      ]
    },
    {
      "cell_type": "code",
      "metadata": {
        "id": "8tyWT0edAqh7",
        "colab_type": "code",
        "colab": {
          "base_uri": "https://localhost:8080/",
          "height": 70
        },
        "outputId": "7a9287ac-d3aa-456c-9e50-0410b122ee16"
      },
      "source": [
        "# Checking the content in my GDrive witihin the working directory\n",
        "\n",
        "!ls -ahl \"/content/gdrive/My Drive/IMDB Analysis\""
      ],
      "execution_count": 5,
      "outputs": [
        {
          "output_type": "stream",
          "text": [
            "total 2.0M\n",
            "-rw------- 1 root root  26K Apr 11 06:55 'OMDB Analysis.ipynb'\n",
            "-rw------- 1 root root 1.9M Apr 11 06:55  omdb.csv\n"
          ],
          "name": "stdout"
        }
      ]
    },
    {
      "cell_type": "code",
      "metadata": {
        "id": "C-TfoSGmBhLX",
        "colab_type": "code",
        "colab": {}
      },
      "source": [
        "# Import necessary libraries and packages\n",
        "\n",
        "import pandas as pd\n",
        "import numpy as np\n",
        "import matplotlib.pyplot as plt\n",
        "\n",
        "# set the plots to display in the Jupyter notebook\n",
        "% matplotlib inline"
      ],
      "execution_count": 0,
      "outputs": []
    },
    {
      "cell_type": "code",
      "metadata": {
        "id": "Og2-9zkRBn6u",
        "colab_type": "code",
        "colab": {
          "base_uri": "https://localhost:8080/",
          "height": 598
        },
        "outputId": "5648de9a-aa4f-422d-d5c3-c06622d0cd81"
      },
      "source": [
        "# Read the csv file\n",
        "\n",
        "df = pd.read_csv('/content/gdrive/My Drive/IMDB Analysis/omdb.csv')\n",
        "\n",
        "df.head()"
      ],
      "execution_count": 8,
      "outputs": [
        {
          "output_type": "execute_result",
          "data": {
            "text/html": [
              "<div>\n",
              "<style scoped>\n",
              "    .dataframe tbody tr th:only-of-type {\n",
              "        vertical-align: middle;\n",
              "    }\n",
              "\n",
              "    .dataframe tbody tr th {\n",
              "        vertical-align: top;\n",
              "    }\n",
              "\n",
              "    .dataframe thead th {\n",
              "        text-align: right;\n",
              "    }\n",
              "</style>\n",
              "<table border=\"1\" class=\"dataframe\">\n",
              "  <thead>\n",
              "    <tr style=\"text-align: right;\">\n",
              "      <th></th>\n",
              "      <th>imdbID</th>\n",
              "      <th>Title</th>\n",
              "      <th>Year</th>\n",
              "      <th>Runtime</th>\n",
              "      <th>Genres</th>\n",
              "      <th>imdbVotes</th>\n",
              "      <th>imdbRating</th>\n",
              "      <th>Rotten Tomatoes</th>\n",
              "      <th>Metascore</th>\n",
              "      <th>Country</th>\n",
              "      <th>Languages</th>\n",
              "      <th>Production</th>\n",
              "      <th>Director</th>\n",
              "      <th>Writer</th>\n",
              "      <th>Actors</th>\n",
              "      <th>Plot</th>\n",
              "    </tr>\n",
              "  </thead>\n",
              "  <tbody>\n",
              "    <tr>\n",
              "      <th>0</th>\n",
              "      <td>tt0111161</td>\n",
              "      <td>The Shawshank Redemption</td>\n",
              "      <td>1994</td>\n",
              "      <td>142</td>\n",
              "      <td>Drama</td>\n",
              "      <td>2154564</td>\n",
              "      <td>93.0</td>\n",
              "      <td>90.0</td>\n",
              "      <td>80.0</td>\n",
              "      <td>USA</td>\n",
              "      <td>English</td>\n",
              "      <td>Columbia Pictures</td>\n",
              "      <td>Frank Darabont</td>\n",
              "      <td>Stephen King (short story \"Rita Hayworth and S...</td>\n",
              "      <td>Tim Robbins, Morgan Freeman, Bob Gunton, Willi...</td>\n",
              "      <td>Two imprisoned men bond over a number of years...</td>\n",
              "    </tr>\n",
              "    <tr>\n",
              "      <th>1</th>\n",
              "      <td>tt0068646</td>\n",
              "      <td>The Godfather</td>\n",
              "      <td>1972</td>\n",
              "      <td>175</td>\n",
              "      <td>Crime, Drama</td>\n",
              "      <td>1479706</td>\n",
              "      <td>92.0</td>\n",
              "      <td>98.0</td>\n",
              "      <td>100.0</td>\n",
              "      <td>USA</td>\n",
              "      <td>English, Italian, Latin</td>\n",
              "      <td>Paramount Pictures</td>\n",
              "      <td>Francis Ford Coppola</td>\n",
              "      <td>Mario Puzo (screenplay by), Francis Ford Coppo...</td>\n",
              "      <td>Marlon Brando, Al Pacino, James Caan, Richard ...</td>\n",
              "      <td>The aging patriarch of an organized crime dyna...</td>\n",
              "    </tr>\n",
              "    <tr>\n",
              "      <th>2</th>\n",
              "      <td>tt8354112</td>\n",
              "      <td>Mosul</td>\n",
              "      <td>2019</td>\n",
              "      <td>86</td>\n",
              "      <td>Documentary</td>\n",
              "      <td>2635</td>\n",
              "      <td>91.0</td>\n",
              "      <td>100.0</td>\n",
              "      <td>70.0</td>\n",
              "      <td>USA</td>\n",
              "      <td>English, Arabic</td>\n",
              "      <td>Gravitas Ventures</td>\n",
              "      <td>Daniel Gabriel</td>\n",
              "      <td>Daniel Gabriel, Mike Tucker</td>\n",
              "      <td>Ali Mula, Anouar H. Smaine</td>\n",
              "      <td>The gritty, thrilling story of local militias ...</td>\n",
              "    </tr>\n",
              "    <tr>\n",
              "      <th>3</th>\n",
              "      <td>tt0071562</td>\n",
              "      <td>The Godfather: Part II</td>\n",
              "      <td>1974</td>\n",
              "      <td>202</td>\n",
              "      <td>Crime, Drama</td>\n",
              "      <td>1030130</td>\n",
              "      <td>90.0</td>\n",
              "      <td>97.0</td>\n",
              "      <td>90.0</td>\n",
              "      <td>USA</td>\n",
              "      <td>English, Italian, Spanish, Latin, Sicilian</td>\n",
              "      <td>Paramount Pictures</td>\n",
              "      <td>Francis Ford Coppola</td>\n",
              "      <td>Francis Ford Coppola (screenplay by), Mario Pu...</td>\n",
              "      <td>Al Pacino, Robert Duvall, Diane Keaton, Robert...</td>\n",
              "      <td>The early life and career of Vito Corleone in ...</td>\n",
              "    </tr>\n",
              "    <tr>\n",
              "      <th>4</th>\n",
              "      <td>tt0468569</td>\n",
              "      <td>The Dark Knight</td>\n",
              "      <td>2008</td>\n",
              "      <td>152</td>\n",
              "      <td>Action, Crime, Drama, Thriller</td>\n",
              "      <td>2124722</td>\n",
              "      <td>90.0</td>\n",
              "      <td>94.0</td>\n",
              "      <td>84.0</td>\n",
              "      <td>USA, UK</td>\n",
              "      <td>English, Mandarin</td>\n",
              "      <td>Warner Bros. Pictures/Legendary</td>\n",
              "      <td>Christopher Nolan</td>\n",
              "      <td>Jonathan Nolan (screenplay), Christopher Nolan...</td>\n",
              "      <td>Christian Bale, Heath Ledger, Aaron Eckhart, M...</td>\n",
              "      <td>When the menace known as the Joker wreaks havo...</td>\n",
              "    </tr>\n",
              "  </tbody>\n",
              "</table>\n",
              "</div>"
            ],
            "text/plain": [
              "      imdbID  ...                                               Plot\n",
              "0  tt0111161  ...  Two imprisoned men bond over a number of years...\n",
              "1  tt0068646  ...  The aging patriarch of an organized crime dyna...\n",
              "2  tt8354112  ...  The gritty, thrilling story of local militias ...\n",
              "3  tt0071562  ...  The early life and career of Vito Corleone in ...\n",
              "4  tt0468569  ...  When the menace known as the Joker wreaks havo...\n",
              "\n",
              "[5 rows x 16 columns]"
            ]
          },
          "metadata": {
            "tags": []
          },
          "execution_count": 8
        }
      ]
    },
    {
      "cell_type": "code",
      "metadata": {
        "id": "Rb1bI0qyCFmJ",
        "colab_type": "code",
        "colab": {
          "base_uri": "https://localhost:8080/",
          "height": 283
        },
        "outputId": "e4baf032-1687-43f8-8807-8c2153961190"
      },
      "source": [
        "# Plot the graph\n",
        "\n",
        "df['imdbRating'].value_counts().sort_index().plot()"
      ],
      "execution_count": 9,
      "outputs": [
        {
          "output_type": "execute_result",
          "data": {
            "text/plain": [
              "<matplotlib.axes._subplots.AxesSubplot at 0x7f8c770cbb38>"
            ]
          },
          "metadata": {
            "tags": []
          },
          "execution_count": 9
        },
        {
          "output_type": "display_data",
          "data": {
            "image/png": "[encoded data removed]",
            "text/plain": [
              "<Figure size 432x288 with 1 Axes>"
            ]
          },
          "metadata": {
            "tags": [],
            "needs_background": "light"
          }
        }
      ]
    }
  ]
}